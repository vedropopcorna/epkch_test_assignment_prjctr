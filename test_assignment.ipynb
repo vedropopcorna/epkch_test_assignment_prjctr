{
 "cells": [
  {
   "cell_type": "code",
   "execution_count": 18,
   "id": "345fb567",
   "metadata": {
    "ExecuteTime": {
     "end_time": "2022-08-21T11:22:52.060281Z",
     "start_time": "2022-08-21T11:22:52.026563Z"
    },
    "scrolled": true
   },
    {
     "data": {
      "text/plain": [
       "True"
      ]
     },
     "execution_count": 18,
     "metadata": {},
     "output_type": "execute_result"
    }
   "source": [
    "import pandas as pd\n",
    "import numpy as np\n",
    "from sklearn.feature_extraction.text import TfidfVectorizer\n",
    "from sklearn.model_selection import train_test_split\n",
    "import tensorflow as tf\n",
    "from tensorflow.keras import Sequential\n",
    "from tensorflow.keras.layers import Dense\n",
    "import nltk\n",
    "import re\n",
    "from nltk.corpus import stopwords\n",
    "from sklearn.metrics import mean_squared_error as mse\n",
    "\n",
    "\n",
    "nltk.download('stopwords')\n",
    "nltk.download('punkt')\n",
    "nltk.download('wordnet')\n",
    "nltk.download('omw-1.4')"
   ]
  },
  {
   "cell_type": "code",
   "execution_count": 2,
   "id": "687c33b9",
   "metadata": {
    "ExecuteTime": {
     "end_time": "2022-08-21T11:10:05.701191Z",
     "start_time": "2022-08-21T11:10:05.604168Z"
    }
   },
   "outputs": [],
   "source": [
    "train_df = pd.read_csv('train.csv')\n",
    "test_df = pd.read_csv('test.csv')"
   ]
  },
  {
   "cell_type": "code",
   "execution_count": 7,
   "id": "0207e338",
   "metadata": {
    "ExecuteTime": {
     "end_time": "2022-08-21T11:17:47.688354Z",
     "start_time": "2022-08-21T11:17:47.678352Z"
    }
   },
   "outputs": [
    {
     "data": {
      "text/plain": [
       "Index(['id', 'url_legal', 'license', 'excerpt', 'target', 'standard_error',\n",
       "       'processed_text'],\n",
       "      dtype='object')"
      ]
     },
     "execution_count": 7,
     "metadata": {},
     "output_type": "execute_result"
    }
   ],
   "source": [
    "train_df.columns"
   ]
  },
  {
   "cell_type": "code",
   "execution_count": 3,
   "id": "1f9e7aeb",
   "metadata": {
    "ExecuteTime": {
     "end_time": "2022-08-21T11:10:06.427323Z",
     "start_time": "2022-08-21T11:10:06.414317Z"
    }
   },
   "outputs": [],
   "source": [
    "def preprocess_text(text_data, type='train'):\n",
    "    text_processed = []\n",
    "    for e in text_data['excerpt']:\n",
    "        # find alphabets\n",
    "        e = re.sub(\"[^a-zA-Z]\", \" \", e)\n",
    "\n",
    "        # convert to lower case\n",
    "        e = e.lower()\n",
    "\n",
    "        # tokenize words\n",
    "        e = nltk.word_tokenize(e)\n",
    "\n",
    "        # remove stopwords\n",
    "        e = [word for word in e if not word in set(stopwords.words(\"english\"))]\n",
    "\n",
    "        # lemmatization\n",
    "        lemma = nltk.WordNetLemmatizer()\n",
    "        e = [lemma.lemmatize(word) for word in e]\n",
    "        e = \" \".join(e)\n",
    "\n",
    "        text_processed.append(e)\n",
    "    return text_processed"
   ]
  },
  {
   "cell_type": "code",
   "execution_count": 5,
   "id": "e527b4e5",
   "metadata": {
    "ExecuteTime": {
     "end_time": "2022-08-21T11:17:29.878379Z",
     "start_time": "2022-08-21T11:13:56.601638Z"
    },
    "scrolled": false
   },
   "outputs": [],
   "source": [
    "train_df['processed_text'] = preprocess_text(train_df)\n",
    "test_df['processed_text'] = preprocess_text(test_df)"
   ]
  },
  {
   "cell_type": "code",
   "execution_count": 34,
   "id": "1166170a",
   "metadata": {
    "ExecuteTime": {
     "end_time": "2022-08-21T11:39:16.351235Z",
     "start_time": "2022-08-21T11:39:15.964135Z"
    }
   },
   "outputs": [],
   "source": [
    "vectorizer =  TfidfVectorizer(binary=True, ngram_range=(1, 1))\n",
    "X_train = vectorizer.fit_transform(train_df['processed_text'])\n",
    "X_test = vectorizer.transform(test_df['processed_text'])\n",
    "y_train = train_df['target']"
   ]
  },
  {
   "cell_type": "code",
   "execution_count": 35,
   "id": "9615957e",
   "metadata": {
    "ExecuteTime": {
     "end_time": "2022-08-21T11:39:18.560891Z",
     "start_time": "2022-08-21T11:39:18.544898Z"
    }
   },
   "outputs": [],
   "source": [
    "X_train, X_cv, y_train, y_cv = train_test_split(\n",
    "    X_train, y_train, test_size=0.30, random_state=42)"
   ]
  },
  {
   "cell_type": "code",
   "execution_count": 36,
   "id": "ba1469be",
   "metadata": {
    "ExecuteTime": {
     "end_time": "2022-08-21T11:39:20.844295Z",
     "start_time": "2022-08-21T11:39:20.589298Z"
    }
   },
   "outputs": [],
   "source": [
    "X_train = X_train.toarray()\n",
    "X_cv = X_cv.toarray()\n",
    "X_test = X_test.toarray()"
   ]
  },
  {
   "cell_type": "code",
   "execution_count": 59,
   "id": "e0025b2b",
   "metadata": {
    "ExecuteTime": {
     "end_time": "2022-08-21T17:24:57.259963Z",
     "start_time": "2022-08-21T17:24:57.159030Z"
    }
   },
   "outputs": [],
   "source": [
    "lambda_ = 0.005\n",
    "model = Sequential([\n",
    "    Dense(25, activation= \"relu\"),\n",
    "    Dense(10, activation= 'relu'),\n",
    "    Dense(5, activation='relu'),\n",
    "    Dense(1)\n",
    "])\n",
    "model.compile(optimizer=tf.keras.optimizers.Adam(learning_rate=0.01),\n",
    "             loss=tf.keras.losses.MeanSquaredError())"
   ]
  },
  {
   "cell_type": "code",
   "execution_count": 60,
   "id": "f8970534",
   "metadata": {
    "ExecuteTime": {
     "end_time": "2022-08-21T17:26:26.399327Z",
     "start_time": "2022-08-21T17:24:59.399512Z"
    }
   },
   "outputs": [
    {
     "name": "stdout",
     "output_type": "stream",
     "text": [
      "Epoch 100/100\n",
      "62/62 [==============================] - 1s 13ms/step - loss: 0.0105\n"
     ]
    },
    {
     "data": {
      "text/plain": [
       "<keras.callbacks.History at 0x1a66c5c7a30>"
      ]
     },
     "execution_count": 60,
     "metadata": {},
     "output_type": "execute_result"
    }
   ],
   "source": [
    "model.fit(X_train, y_train, epochs=100)"
   ]
  },
  {
   "cell_type": "code",
   "execution_count": 62,
   "id": "27fcd26b",
   "metadata": {
    "ExecuteTime": {
     "end_time": "2022-08-21T17:26:35.245897Z",
     "start_time": "2022-08-21T17:26:34.838811Z"
    },
    "scrolled": true
   },
   "outputs": [
    {
     "name": "stdout",
     "output_type": "stream",
     "text": [
      "27/27 [==============================] - 0s 7ms/step\n",
      "RMSE error: 0.5830929914421591\n"
     ]
    }
   ],
   "source": [
    "print(f'RMSE error: {mse(y_cv, model.predict(X_cv),)}')"
   ]
  },
  {
   "cell_type": "code",
   "execution_count": 63,
   "id": "d6917420",
   "metadata": {
    "ExecuteTime": {
     "end_time": "2022-08-21T17:26:52.783472Z",
     "start_time": "2022-08-21T17:26:50.858734Z"
    }
   },
   "outputs": [
    {
     "name": "stdout",
     "output_type": "stream",
     "text": [
      "INFO:tensorflow:Assets written to: D:\\Projector\\my_model.save\\assets\n"
     ]
    }
   ],
   "source": [
    "import os\n",
    "model.save(f'{os.path.join(os.getcwd(), \"my_model.save\")}')"
   ]
  },
  {
   "cell_type": "code",
   "execution_count": null,
   "id": "324dae55",
   "metadata": {},
   "outputs": [],
   "source": []
  }
 ],
 "metadata": {
  "kernelspec": {
   "display_name": "Python 3 (ipykernel)",
   "language": "python",
   "name": "python3"
  },
  "language_info": {
   "codemirror_mode": {
    "name": "ipython",
    "version": 3
   },
   "file_extension": ".py",
   "mimetype": "text/x-python",
   "name": "python",
   "nbconvert_exporter": "python",
   "pygments_lexer": "ipython3",
   "version": "3.10.0"
  },
  "latex_envs": {
   "LaTeX_envs_menu_present": true,
   "autoclose": false,
   "autocomplete": true,
   "bibliofile": "biblio.bib",
   "cite_by": "apalike",
   "current_citInitial": 1,
   "eqLabelWithNumbers": true,
   "eqNumInitial": 1,
   "hotkeys": {
    "equation": "Ctrl-E",
    "itemize": "Ctrl-I"
   },
   "labels_anchors": false,
   "latex_user_defs": false,
   "report_style_numbering": false,
   "user_envs_cfg": false
  },
  "varInspector": {
   "cols": {
    "lenName": 16,
    "lenType": 16,
    "lenVar": 40
   },
   "kernels_config": {
    "python": {
     "delete_cmd_postfix": "",
     "delete_cmd_prefix": "del ",
     "library": "var_list.py",
     "varRefreshCmd": "print(var_dic_list())"
    },
    "r": {
     "delete_cmd_postfix": ") ",
     "delete_cmd_prefix": "rm(",
     "library": "var_list.r",
     "varRefreshCmd": "cat(var_dic_list()) "
    }
   },
   "types_to_exclude": [
    "module",
    "function",
    "builtin_function_or_method",
    "instance",
    "_Feature"
   ],
   "window_display": false
  }
 },
 "nbformat": 4,
 "nbformat_minor": 5
}
